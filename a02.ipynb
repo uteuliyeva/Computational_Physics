{
 "cells": [
  {
   "cell_type": "markdown",
   "metadata": {},
   "source": [
    "Assignment 2 Malika Uteuliyeva(201430293)"
   ]
  },
  {
   "cell_type": "code",
   "execution_count": 1,
   "metadata": {
    "collapsed": true
   },
   "outputs": [],
   "source": [
    "import math as m\n",
    "import numpy as np\n",
    "import matplotlib.pyplot as plt"
   ]
  },
  {
   "cell_type": "code",
   "execution_count": 2,
   "metadata": {
    "collapsed": true
   },
   "outputs": [],
   "source": [
    "e=m.e"
   ]
  },
  {
   "cell_type": "code",
   "execution_count": 3,
   "metadata": {},
   "outputs": [
    {
     "name": "stdout",
     "output_type": "stream",
     "text": [
      "For x=1 precision of 10^(-15) is reached when 17 terms are added\n"
     ]
    }
   ],
   "source": [
    "#Finding Maclaurin series for finite n, and x=1\n",
    "#Finding relative error\n",
    "#Printing number of terms (not n!) needed to get rel error less than 10^(-15)\n",
    "sum1=0\n",
    "n1=np.zeros(50)\n",
    "err_arr1=np.zeros(50)\n",
    "\n",
    "for i in range (50):\n",
    "    sum1+=1/m.factorial(i)\n",
    "    n1[i]=i+1\n",
    "    rel_err1=np.abs(sum1-e)/e\n",
    "    err_arr1[i]=rel_err1\n",
    "    #print(i+1,' terms exp=', sum1, ' Relative Error: ',rel_err1) \n",
    "    \n",
    "    \n",
    "for k in range (50):\n",
    "    error=err_arr1[k]\n",
    "    if(error<=10**(-15)):\n",
    "        print('For x=1 precision of 10^(-15) is reached when', k+1,'terms are added')\n",
    "        break"
   ]
  },
  {
   "cell_type": "code",
   "execution_count": 4,
   "metadata": {},
   "outputs": [
    {
     "name": "stdout",
     "output_type": "stream",
     "text": [
      "For x=2 precision of 10^(-15) is reached when 22 terms are added\n"
     ]
    }
   ],
   "source": [
    "#Finding Maclaurin series for finite n, and x=2\n",
    "#Finding relative error\n",
    "#Printing number of terms (not n!) needed to get rel error less than 10^(-15)\n",
    "\n",
    "sum2=0\n",
    "n2=np.zeros(50)\n",
    "err_arr2=np.zeros(50)\n",
    "\n",
    "\n",
    "for i in range (50):\n",
    "    sum2+=(2**i)/m.factorial(i)\n",
    "    n2[i]=i+1\n",
    "    rel_err2=np.abs(sum2-m.exp(2))/(m.exp(2))\n",
    "    err_arr2[i]=rel_err2\n",
    "    #print(i+1,' terms exp=', sum2, ' Relative Error: ',rel_err2) \n",
    "    \n",
    "    \n",
    "for k in range (50):\n",
    "    error=err_arr2[k]\n",
    "    if(error<=10**(-15)):\n",
    "        print('For x=2 precision of 10^(-15) is reached when', k+1,'terms are added')\n",
    "        break"
   ]
  },
  {
   "cell_type": "code",
   "execution_count": 5,
   "metadata": {},
   "outputs": [
    {
     "name": "stdout",
     "output_type": "stream",
     "text": [
      "For x=10 precision of 10^(-15) is reached when 45 terms are added\n"
     ]
    }
   ],
   "source": [
    "#Finding Maclaurin series for finite n, and x=10\n",
    "#Finding relative error\n",
    "#Printing number of terms (not n!) needed to get rel error less than 10^(-15)\n",
    "\n",
    "sum3=0\n",
    "n3=np.zeros(50)\n",
    "err_arr3=np.zeros(50)\n",
    "\n",
    "\n",
    "for i in range (50):\n",
    "    sum3+=(10**i)/m.factorial(i)\n",
    "    n3[i]=i+1\n",
    "    rel_err3=np.abs(sum3-m.exp(10))/m.exp(10)\n",
    "    err_arr3[i]=rel_err3\n",
    "    #print(i+1,' terms exp=', sum3, ' Relative Error: ',rel_err3) \n",
    "    \n",
    "    \n",
    "for k in range (50):\n",
    "    error=err_arr3[k]\n",
    "    if(error<=10**(-15)):\n",
    "        print('For x=10 precision of 10^(-15) is reached when', k+1,'terms are added')\n",
    "        break"
   ]
  },
  {
   "cell_type": "code",
   "execution_count": 7,
   "metadata": {},
   "outputs": [
    {
     "data": {
      "image/png": "[encoded data removed]",
      "text/plain": [
       "<matplotlib.figure.Figure at 0x10ee57240>"
      ]
     },
     "metadata": {},
     "output_type": "display_data"
    }
   ],
   "source": [
    "x1= plt.plot(n1, err_arr1, lw=2) #graph for x=1\n",
    "x2= plt.plot(n2, err_arr2, lw=2) #graph for x=2\n",
    "x10= plt.plot(n3, err_arr3, lw=2) #graph for x=10\n",
    "plt.xlabel('N terms')\n",
    "plt.ylabel('Relative Error')\n",
    "plt.xscale('linear')\n",
    "plt.yscale('log')\n",
    "plt.show()"
   ]
  },
  {
   "cell_type": "markdown",
   "metadata": {},
   "source": [
    "The graph shows the behaviour of relative errors in respect with incresing number of terms in Maclaurin series for e^x:\n",
    "blue, when x=1\n",
    "orange, when x=2\n",
    "green, when x=10.\n",
    "The graph becomes less dramatic with the increase of x, in other words the greater the x, the more terms should be added to reach needed precision. \n",
    "\n",
    "As the error value reaches 10^(-15) its graph becomes stable. The reason is that the error is saved in float variable which can carry only 15 digits after a point. As the value of error becomes smaller, the computer truncates digits after first 15 places and rounds the number to the nearest value. That creates a round off error, that may be solved to some degree with the use of double variables. But again we will get the round off error when we reach the limit in memory."
   ]
  },
  {
   "cell_type": "code",
   "execution_count": null,
   "metadata": {
    "collapsed": true
   },
   "outputs": [],
   "source": []
  }
 ],
 "metadata": {
  "kernelspec": {
   "display_name": "Python 3",
   "language": "python",
   "name": "python3"
  },
  "language_info": {
   "codemirror_mode": {
    "name": "ipython",
    "version": 3
   },
   "file_extension": ".py",
   "mimetype": "text/x-python",
   "name": "python",
   "nbconvert_exporter": "python",
   "pygments_lexer": "ipython3",
   "version": "3.6.3"
  }
 },
 "nbformat": 4,
 "nbformat_minor": 2
}
