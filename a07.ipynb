{
 "cells": [
  {
   "cell_type": "markdown",
   "metadata": {},
   "source": [
    "Malika Uteuliyeva. Assignment 7. "
   ]
  },
  {
   "cell_type": "code",
   "execution_count": 1,
   "metadata": {
    "collapsed": true
   },
   "outputs": [],
   "source": [
    "import numpy as np\n",
    "import matplotlib.pyplot as plt\n",
    "from scipy import integrate\n",
    "import math as m\n",
    "\n",
    "%matplotlib inline\n",
    "%config InlineBackend.figure_format = 'retina'"
   ]
  },
  {
   "cell_type": "code",
   "execution_count": 2,
   "metadata": {},
   "outputs": [],
   "source": [
    "e=m.e"
   ]
  },
  {
   "cell_type": "code",
   "execution_count": 3,
   "metadata": {
    "collapsed": true
   },
   "outputs": [],
   "source": [
    "def f(x):\n",
    "    return (x**10)*(2-x)*(1-e**(20*(x-1)))"
   ]
  },
  {
   "cell_type": "code",
   "execution_count": 4,
   "metadata": {
    "collapsed": true
   },
   "outputs": [],
   "source": [
    "integral, error = integrate.quad(f, 0, 1) \n",
    "def error(experimental):\n",
    "    return abs(integral-experimental)/integral"
   ]
  },
  {
   "cell_type": "code",
   "execution_count": 5,
   "metadata": {
    "collapsed": true
   },
   "outputs": [],
   "source": [
    "def trapezoidal_rule(x, y, n):\n",
    "    h = (y-x)/float(n)\n",
    "    s = (f(x) + f(y))/2\n",
    "    for i in range(1,n):\n",
    "        s = s + f(x + i*h)\n",
    "    return h*s"
   ]
  },
  {
   "cell_type": "code",
   "execution_count": 6,
   "metadata": {
    "collapsed": true
   },
   "outputs": [],
   "source": [
    "def romberg_integration(x, y, n):\n",
    "    result = np.zeros((n, n))\n",
    "    for i in range(0, n):\n",
    "        result[i, 0] = trapezoidal_rule(x, y, 2**i)\n",
    "        for j in range(0, i):\n",
    "            result[i, j+1] = (result[i, j]*4**(j+1) - result[i-1, j]) / (4**(j+1) - 1)  \n",
    "    return result[i,n-1]"
   ]
  },
  {
   "cell_type": "code",
   "execution_count": 7,
   "metadata": {},
   "outputs": [],
   "source": [
    "def adaptive_quadrature(x, y, tolerance):\n",
    "    z=(x+y)/2\n",
    "    return quadrature_step(x, y, tolerance, f(x), f(y), f(z))\n",
    "\n",
    "def quadrature_step(x, y, tolerance, fx, fy, fz):\n",
    "    h1=y-x\n",
    "    h2=h1/2\n",
    "    z=(x+y)/2\n",
    "    f_s=f((x+z)/2)\n",
    "    f_t=f((y+z)/2)\n",
    "    integral1=h1/6*(fx+4*fz+fy)\n",
    "    integral2=h2/6*(fx+4*f_s+2*fz+4*f_t+fy)\n",
    "    if abs(integral2-integral1)<=tolerance:\n",
    "        result=integral2+(integral2-integral1)/15\n",
    "    else:\n",
    "        integral_a=quadrature_step(x, z, tolerance, fx, f_s, fz)\n",
    "        integral_b=quadrature_step(z, y, tolerance, fz, f_t, fy)\n",
    "        result=integral_a+integral_b\n",
    "    return result"
   ]
  },
  {
   "cell_type": "code",
   "execution_count": 8,
   "metadata": {},
   "outputs": [],
   "source": [
    "def GaussLegendreQuadrature(order, tolerance, a, b):\n",
    "    [Ws,xs, err]= GaussLegendreWeights(order, tolerance)\n",
    "    integral=(b-a)*0.5*sum( Ws*f( (b-a)*0.5*xs+ (b+a)*0.5 ) )\n",
    "    return integral\n",
    "\n",
    "def GaussLegendreWeights(order, tolerance):\n",
    "    W=[]\n",
    "    [xis,err]=LegendreRoots(order, tolerance)\n",
    "    if err==0:\n",
    "        W=2.0/( (1.0-xis**2)*(DLegendre(order,xis)**2) )\n",
    "        err=0\n",
    "    else:\n",
    "        err=1 \n",
    "    return [W, xis, err]\n",
    "\n",
    "def LegendreRoots(order,tolerance):\n",
    "    if order<2:\n",
    "        err=1 \n",
    "    else:\n",
    "        roots=[]\n",
    "        for i in range(1,int(order/2 +1)):\n",
    "            x=m.cos(m.pi*(i-0.25)/(order+0.5))\n",
    "            error=10*tolerance\n",
    "            iters=0\n",
    "            while (error>tolerance) and (iters<1000):\n",
    "                dx=-Legendre(order,x)/DLegendre(order,x)\n",
    "                x=x+dx\n",
    "                iters=iters+1\n",
    "                error=abs(dx)\n",
    "            roots.append(x)\n",
    "        roots=np.array(roots)\n",
    "        if order%2==0:\n",
    "            roots=np.concatenate( (-1.0*roots, roots[::-1]) )\n",
    "        else:\n",
    "            roots=np.concatenate( (-1.0*roots, [0.0], roots[::-1]) )\n",
    "        err=0 \n",
    "    return [roots, err]\n",
    "\n",
    "def DLegendre(n,x):\n",
    "    x=np.array(x)\n",
    "    if (n==0):\n",
    "        return x*0\n",
    "    elif (n==1):\n",
    "        return x*0+1.0\n",
    "    else:\n",
    "        return (n/(x**2-1.0))*(x*Legendre(n,x)-Legendre(n-1,x))\n",
    "\n",
    "def Legendre(n,x):\n",
    "    x=np.array(x)\n",
    "    if (n==0):\n",
    "        return x*0+1.0\n",
    "    elif (n==1):\n",
    "        return x\n",
    "    else:\n",
    "        return ((2.0*n-1.0)*x*Legendre(n-1,x)-(n-1)*Legendre(n-2,x))/n"
   ]
  },
  {
   "cell_type": "markdown",
   "metadata": {},
   "source": [
    "The results are the following:"
   ]
  },
  {
   "cell_type": "code",
   "execution_count": 9,
   "metadata": {},
   "outputs": [
    {
     "name": "stdout",
     "output_type": "stream",
     "text": [
      "The integral value =  0.06446182039578609\n",
      "Error =  0.0\n"
     ]
    }
   ],
   "source": [
    "print(\"The integral value = \", integral)\n",
    "print ('Error = ', error(integral))"
   ]
  },
  {
   "cell_type": "code",
   "execution_count": 10,
   "metadata": {},
   "outputs": [
    {
     "name": "stdout",
     "output_type": "stream",
     "text": [
      "Integral value by trapezoidal rule =  0.06446182039411927\n",
      "Error =  2.5857468033002245e-11\n"
     ]
    }
   ],
   "source": [
    "trapezoidal_value = trapezoidal_rule(0, 1, 1000000)\n",
    "print('Integral value by trapezoidal rule = ', trapezoidal_value)\n",
    "print ('Error = ', error(trapezoidal_value))"
   ]
  },
  {
   "cell_type": "code",
   "execution_count": 11,
   "metadata": {},
   "outputs": [
    {
     "name": "stdout",
     "output_type": "stream",
     "text": [
      "Integral value by romberg integration =  0.0644618203958\n",
      "Error =  3.44459097745e-15\n"
     ]
    }
   ],
   "source": [
    "romberg_integral = romberg_integration(0, 1, 15)\n",
    "print('Integral value by romberg integration = ', romberg_integral)\n",
    "print('Error = ', error(romberg_integral))"
   ]
  },
  {
   "cell_type": "code",
   "execution_count": 12,
   "metadata": {},
   "outputs": [
    {
     "name": "stdout",
     "output_type": "stream",
     "text": [
      "Integral value by adaptive quadrature =  0.06446107883605244\n",
      "Error =  1.1503859634956019e-05\n"
     ]
    }
   ],
   "source": [
    "integral_quadapt = adaptive_quadrature(0, 1, 10**(-10))\n",
    "print('Integral value by adaptive quadrature = ',integral_quadapt)\n",
    "print('Error = ',error(integral_quadapt))"
   ]
  },
  {
   "cell_type": "code",
   "execution_count": 13,
   "metadata": {},
   "outputs": [
    {
     "name": "stdout",
     "output_type": "stream",
     "text": [
      "Integral value by Gauss quadrature =  0.06446210446\n",
      "Error =  4.40670459556e-06\n"
     ]
    }
   ],
   "source": [
    "integral_GaussLegendreQuadrature = GaussLegendreQuadrature(10, 10**(-16), 0, 1)\n",
    "print('Integral value by Gauss quadrature = ', integral_GaussLegendreQuadrature)\n",
    "print('Error = ',error(integral_GaussLegendreQuadrature))"
   ]
  },
  {
   "cell_type": "code",
   "execution_count": 14,
   "metadata": {},
   "outputs": [
    {
     "name": "stdout",
     "output_type": "stream",
     "text": [
      "768 ms ± 24.5 ms per loop (mean ± std. dev. of 7 runs, 1 loop each)\n"
     ]
    }
   ],
   "source": [
    "%timeit trapezoidal_rule(0, 1, 1000000)"
   ]
  },
  {
   "cell_type": "code",
   "execution_count": 15,
   "metadata": {},
   "outputs": [
    {
     "name": "stdout",
     "output_type": "stream",
     "text": [
      "25.4 ms ± 816 µs per loop (mean ± std. dev. of 7 runs, 10 loops each)\n"
     ]
    }
   ],
   "source": [
    "%timeit romberg_integration(0, 1, 15)"
   ]
  },
  {
   "cell_type": "code",
   "execution_count": 16,
   "metadata": {},
   "outputs": [
    {
     "name": "stdout",
     "output_type": "stream",
     "text": [
      "9.77 s ± 547 ms per loop (mean ± std. dev. of 7 runs, 1 loop each)\n"
     ]
    }
   ],
   "source": [
    "%timeit adaptive_quadrature(0, 1, 10**(-13))"
   ]
  },
  {
   "cell_type": "code",
   "execution_count": 17,
   "metadata": {},
   "outputs": [
    {
     "name": "stdout",
     "output_type": "stream",
     "text": [
      "24.1 ms ± 1.01 ms per loop (mean ± std. dev. of 7 runs, 10 loops each)\n"
     ]
    }
   ],
   "source": [
    "%timeit GaussLegendreQuadrature(10, 10**(-16), 0, 1)"
   ]
  },
  {
   "cell_type": "markdown",
   "metadata": {},
   "source": [
    "We can conclude that Romberg integral is the most convenient numerical integration method here as it gives the smallest error (3.44459097745e-15) in the adequately small amount of time (23.8 ms ± 930 µs per loop). One can achieve even better precision of 10**(-16) by using the trapezoidal rule BUT it is timeconsuming and cannot be compared to Romberg in terms of computational cost.\n"
   ]
  },
  {
   "cell_type": "markdown",
   "metadata": {},
   "source": [
    "In terms of speed from the fastest to the slowest:\n",
    "\n",
    "1)adaptive_quadrature\n",
    "2)romberg_integration\n",
    "3)GaussLegendreQuadrature\n",
    "4)trapezoidal_rule.\n",
    "However, Romberg and Gauss speeds are close, so that the performance and places may differ on another CPU."
   ]
  },
  {
   "cell_type": "code",
   "execution_count": null,
   "metadata": {
    "collapsed": true
   },
   "outputs": [],
   "source": []
  }
 ],
 "metadata": {
  "kernelspec": {
   "display_name": "Python 3",
   "language": "python",
   "name": "python3"
  },
  "language_info": {
   "codemirror_mode": {
    "name": "ipython",
    "version": 3
   },
   "file_extension": ".py",
   "mimetype": "text/x-python",
   "name": "python",
   "nbconvert_exporter": "python",
   "pygments_lexer": "ipython3",
   "version": "3.6.3"
  }
 },
 "nbformat": 4,
 "nbformat_minor": 2
}
