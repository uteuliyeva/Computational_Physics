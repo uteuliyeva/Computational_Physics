{
 "cells": [
  {
   "cell_type": "markdown",
   "metadata": {},
   "source": [
    "Assignment 1"
   ]
  },
  {
   "cell_type": "code",
   "execution_count": 1,
   "metadata": {
    "collapsed": true
   },
   "outputs": [],
   "source": [
    "from random import random"
   ]
  },
  {
   "cell_type": "code",
   "execution_count": 2,
   "metadata": {
    "collapsed": true
   },
   "outputs": [],
   "source": [
    "#number of elements in lists and arrays\n",
    "N=500"
   ]
  },
  {
   "cell_type": "code",
   "execution_count": 3,
   "metadata": {
    "collapsed": true
   },
   "outputs": [],
   "source": [
    "#Function for getting average value\n",
    "def get_ave(a):\n",
    "    total=0\n",
    "    for i in range(N):\n",
    "        total=total+a[i]\n",
    "    return total/N"
   ]
  },
  {
   "cell_type": "code",
   "execution_count": 4,
   "metadata": {
    "collapsed": true
   },
   "outputs": [],
   "source": [
    "#Function for getting maximum\n",
    "def get_max(a):\n",
    "    max_val=a[0]\n",
    "    for i in range(N):\n",
    "        if a[i]>max_val:\n",
    "            max_val=a[i]\n",
    "    return max_val"
   ]
  },
  {
   "cell_type": "code",
   "execution_count": 5,
   "metadata": {
    "collapsed": true
   },
   "outputs": [],
   "source": [
    "#Function for getting minimum\n",
    "def get_min(a):\n",
    "    min_val=a[0]\n",
    "    for i in range(N):\n",
    "        if a[i]<min_val:\n",
    "            min_val=a[i]\n",
    "    return min_val"
   ]
  },
  {
   "cell_type": "markdown",
   "metadata": {},
   "source": [
    "Tasks (a)-(c) for lists"
   ]
  },
  {
   "cell_type": "code",
   "execution_count": 6,
   "metadata": {},
   "outputs": [
    {
     "name": "stdout",
     "output_type": "stream",
     "text": [
      "796 µs ± 19.4 µs per loop (mean ± std. dev. of 7 runs, 1000 loops each)\n"
     ]
    }
   ],
   "source": [
    "%%timeit -n 1000\n",
    "a=[(random()) for i in range(N)]\n",
    "b=[(random()) for i in range(N)]\n",
    "c=[]\n",
    "for i in range(N):\n",
    "    c.append(a[i]+b[i])\n",
    "\n",
    "a_max=get_max(a)\n",
    "a_min=get_min(a)\n",
    "a_ave=get_ave(a)\n",
    "\n",
    "b_max=get_max(b)\n",
    "b_min=get_min(b)\n",
    "b_ave=get_ave(b)\n",
    "\n",
    "c_max=get_max(c)\n",
    "c_min=get_min(c)\n",
    "c_ave=get_ave(c)"
   ]
  },
  {
   "cell_type": "markdown",
   "metadata": {},
   "source": [
    "Tasks (a)-(c) for numpy arrays"
   ]
  },
  {
   "cell_type": "code",
   "execution_count": 7,
   "metadata": {
    "collapsed": true
   },
   "outputs": [],
   "source": [
    "import numpy as np"
   ]
  },
  {
   "cell_type": "code",
   "execution_count": 8,
   "metadata": {},
   "outputs": [
    {
     "name": "stdout",
     "output_type": "stream",
     "text": [
      "1.31 ms ± 42.5 µs per loop (mean ± std. dev. of 7 runs, 1000 loops each)\n"
     ]
    }
   ],
   "source": [
    "%%timeit -n 1000\n",
    "a_np=np.random.random(size=N)\n",
    "b_np=np.random.random(size=N)\n",
    "c_np=a_np+b_np\n",
    "\n",
    "\n",
    "a_max_np=get_max(a_np)\n",
    "a_min_np=get_min(a_np)\n",
    "a_ave_np=get_ave(a_np)\n",
    "\n",
    "b_max_np=get_max(b_np)\n",
    "b_min_np=get_min(b_np)\n",
    "b_ave_np=get_ave(b_np)\n",
    "\n",
    "c_max_np=get_max(c_np)\n",
    "c_min_np=get_min(c_np)\n",
    "c_ave_np=get_ave(c_np)"
   ]
  },
  {
   "cell_type": "markdown",
   "metadata": {},
   "source": [
    "According to results:\n",
    "    All operations for lists took t=801 µs ± 42.2 µs per loop\n",
    "    And for arrays t=1.25 ms ± 35.7 µs per loop\n",
    "    (experimental results may differ on different CPU)\n",
    "The run time for lists is smaller, therefore for generating, finding min, max and average values it is much efficient."
   ]
  }
 ],
 "metadata": {
  "kernelspec": {
   "display_name": "Python 3",
   "language": "python",
   "name": "python3"
  },
  "language_info": {
   "codemirror_mode": {
    "name": "ipython",
    "version": 3
   },
   "file_extension": ".py",
   "mimetype": "text/x-python",
   "name": "python",
   "nbconvert_exporter": "python",
   "pygments_lexer": "ipython3",
   "version": "3.6.3"
  }
 },
 "nbformat": 4,
 "nbformat_minor": 2
}
