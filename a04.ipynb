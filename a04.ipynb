{
 "cells": [
  {
   "cell_type": "markdown",
   "metadata": {},
   "source": [
    "Assignment 4"
   ]
  },
  {
   "cell_type": "code",
   "execution_count": 3,
   "metadata": {
    "collapsed": true
   },
   "outputs": [],
   "source": [
    "import random as rn\n",
    "import numpy as np\n",
    "import time as tm"
   ]
  },
  {
   "cell_type": "markdown",
   "metadata": {},
   "source": [
    "Function for creating a random matrix. For the experiments seed 1519026460 was used."
   ]
  },
  {
   "cell_type": "code",
   "execution_count": 4,
   "metadata": {},
   "outputs": [],
   "source": [
    "def get_random_matrix(n):\n",
    "    a=np.zeros((n,n),float)\n",
    "    SEED = int(tm.time())\n",
    "    rn.seed(SEED)\n",
    "    print('seed:' ,SEED)\n",
    "    for i in range(n):\n",
    "        for j in range(n):\n",
    "            a[i,j]=rn.random()\n",
    "    return a"
   ]
  },
  {
   "cell_type": "markdown",
   "metadata": {},
   "source": [
    "Functions for LU decomposition with pivoting of a matrix"
   ]
  },
  {
   "cell_type": "code",
   "execution_count": 5,
   "metadata": {
    "collapsed": true
   },
   "outputs": [],
   "source": [
    "def lu_decomposition(a,n):\n",
    "    for j in range(0,n):\n",
    "        make_pivot(a,j,n)\n",
    "        for i in range(j+1,n):\n",
    "            multipl=a[i,j]/a[j,j]\n",
    "            for k in range(j,n):\n",
    "                a[i,k]-=a[j,k]*multipl\n",
    "            a[i,j]=multipl\n",
    "    return\n",
    "\n",
    "\n",
    "def make_pivot(a,prime,n):\n",
    "    var=prime\n",
    "    max_val=abs(a[prime,prime])\n",
    "    temp_arr=np.zeros(n,float)\n",
    "    for i in range(prime+1,n):\n",
    "        temp=abs(a[i,prime])\n",
    "        if temp>max_val:\n",
    "            var=i\n",
    "            max_val=temp\n",
    "    if(prime!=var):\n",
    "            for i in range(0,n):\n",
    "                temp_arr[i]=a[prime,i]\n",
    "                a[prime,i]=a[var,i]\n",
    "                a[var,i]=temp_arr[i]\n",
    "    return"
   ]
  },
  {
   "cell_type": "markdown",
   "metadata": {},
   "source": [
    "Functions for forward and backward processes"
   ]
  },
  {
   "cell_type": "code",
   "execution_count": 6,
   "metadata": {
    "collapsed": true
   },
   "outputs": [],
   "source": [
    "def forward(a,b,n):\n",
    "    d=np.zeros(n,float)\n",
    "    for i in range(0,n):\n",
    "        total=0.0\n",
    "        for j in range(0,i):\n",
    "            total=total+a[i,j]*d[j]\n",
    "        d[i]=b[i]-total\n",
    "    return d\n",
    "\n",
    "def backward(a,b,n):\n",
    "    d=forward(a,b,n)\n",
    "    x=np.zeros(n,float)\n",
    "    i=n-1\n",
    "    while (i>=0):\n",
    "        total=0.0\n",
    "        for j in range(i+1,n):\n",
    "            total=total+a[i,j]*x[j]\n",
    "        x[i]=(d[i]-total)/a[i,i]\n",
    "        i=i-1\n",
    "    return x\n",
    "\n"
   ]
  },
  {
   "cell_type": "markdown",
   "metadata": {},
   "source": [
    "Calculating inverse"
   ]
  },
  {
   "cell_type": "code",
   "execution_count": 7,
   "metadata": {
    "collapsed": true
   },
   "outputs": [],
   "source": [
    "def get_inverse(a,n):\n",
    "    lu_decomposition(a,n)\n",
    "    a_inverse=np.zeros((n,n),float)\n",
    "    for i in range(0,n):\n",
    "        b=np.zeros(n,float)\n",
    "        b[i]=1.0\n",
    "        a_inverse[i]=backward(a,b,n)\n",
    "    return a_inverse.transpose()"
   ]
  },
  {
   "cell_type": "markdown",
   "metadata": {},
   "source": [
    "To analyze the accuracy of calculations, we need to multiply $\\ A$ by $\\ A^{-1}$ , for that reason the following functions are important"
   ]
  },
  {
   "cell_type": "code",
   "execution_count": 8,
   "metadata": {
    "collapsed": true
   },
   "outputs": [],
   "source": [
    "def get_mult(x,y,n):\n",
    "    z=np.zeros((n,n),float)\n",
    "    for i in range(0,n):\n",
    "        total=0.0\n",
    "        for j in range(0,n):\n",
    "            total=0.0\n",
    "            for k in range(0,n):\n",
    "                total+=(x[i,k]*y[k,j])\n",
    "            z[i,j]=total\n",
    "    return z\n",
    "\n"
   ]
  },
  {
   "cell_type": "code",
   "execution_count": 9,
   "metadata": {
    "collapsed": true
   },
   "outputs": [],
   "source": [
    "def get_norm(a,n):\n",
    "    total=0.0\n",
    "    for i in range(0,n):\n",
    "        for j in range(0,n):\n",
    "            total+=a[i,j]**2\n",
    "    return np.sqrt(total)"
   ]
  },
  {
   "cell_type": "markdown",
   "metadata": {},
   "source": [
    "Creating a matrix and checking the accuracy of $\\ A*A^{-1}$ "
   ]
  },
  {
   "cell_type": "code",
   "execution_count": 10,
   "metadata": {},
   "outputs": [
    {
     "name": "stdout",
     "output_type": "stream",
     "text": [
      "seed: 1519026719\n",
      "seed: 1519026719\n",
      "A*A^(-1) normalization:  4.472135955\n"
     ]
    }
   ],
   "source": [
    "n=20\n",
    "a=get_random_matrix(n)\n",
    "inv=get_inverse(a,n)\n",
    "a=get_random_matrix(n)\n",
    "result=get_norm(get_mult(a,inv,n),n)\n",
    "print('A*A^(-1) normalization: ',result)"
   ]
  },
  {
   "cell_type": "markdown",
   "metadata": {},
   "source": [
    "The result for the normalization of this multiplication should be 1, according to Linear Algebra, although the experimental value is 4.472135955. Thus, the analysis of condition number is needed."
   ]
  },
  {
   "cell_type": "markdown",
   "metadata": {},
   "source": [
    "Basically, condition number shows us the dependance between the output error and the input error. \n",
    "By the formula (Chapra & Canale 290)\n",
    "$$\\frac{||\\Delta X||}{||X||}<=Cond[A]\\frac{||\\Delta A||}{||A||}$$\n",
    "We can rewrite it using $\\ A^{-1}$ instead of $\\ X $\n",
    "$$\\frac{||\\Delta A^{-1}||}{||A^{-1}||}<=Cond[A]\\frac{||\\Delta A||}{||A||}$$\n",
    "Thus,\n",
    "$$||\\Delta A^{-1}||<=Cond[A]\\frac{||\\Delta A||}{||A||}||A^{-1}||$$"
   ]
  },
  {
   "cell_type": "code",
   "execution_count": 11,
   "metadata": {},
   "outputs": [
    {
     "name": "stdout",
     "output_type": "stream",
     "text": [
      "cond_number of A:  223.441656941\n"
     ]
    }
   ],
   "source": [
    "cond_number=get_norm(a,n)*get_norm(inv,n)\n",
    "print('cond_number of A: ',cond_number)"
   ]
  },
  {
   "cell_type": "markdown",
   "metadata": {},
   "source": [
    "The condition number is 207.675344945. This shows that the system is ill conditioned. In ideal situation with precise inverse matrix calculation the condition number should be equal to 1. "
   ]
  },
  {
   "cell_type": "markdown",
   "metadata": {},
   "source": [
    "To estimate the accuracy of the $\\ A^{-1}$ the following formula is used.\n",
    "$$||\\Delta A^{-1}||<=Cond[A]\\frac{||\\Delta A||}{||A||}||A^{-1}||$$ \n",
    "As the limitations of the computer force $\\Delta A=10^{-16}$ and the condition number is >  $\\ 10^{2}$,\n",
    "we can anticipate the error of the inverse matrix to be in power -14"
   ]
  },
  {
   "cell_type": "code",
   "execution_count": 12,
   "metadata": {},
   "outputs": [
    {
     "name": "stdout",
     "output_type": "stream",
     "text": [
      "4.05218839511e-14\n"
     ]
    }
   ],
   "source": [
    "error=cond_number*(1e-16)*get_norm(inv,n)/get_norm(a,n)\n",
    "print(error)"
   ]
  },
  {
   "cell_type": "markdown",
   "metadata": {},
   "source": [
    "The error is 2.96803030267e-14. It is 100 times larger than $\\Delta A$, this the system can be called ill-conditioned"
   ]
  },
  {
   "cell_type": "code",
   "execution_count": null,
   "metadata": {},
   "outputs": [],
   "source": [
    "%timeit -n 1000 a1=get_inverse(a,20)"
   ]
  },
  {
   "cell_type": "code",
   "execution_count": 18,
   "metadata": {},
   "outputs": [
    {
     "name": "stdout",
     "output_type": "stream",
     "text": [
      "36.6 µs ± 9.29 µs per loop (mean ± std. dev. of 7 runs, 1000 loops each)\n"
     ]
    }
   ],
   "source": [
    "%timeit -n 1000 a2=np.linalg.inv(a)"
   ]
  },
  {
   "cell_type": "markdown",
   "metadata": {},
   "source": [
    "The function from the linalg library is 300 times faster than my system. The difference might be in more sophisticated matrix storage, less loops and usage of FORTRAN functions for numerical calculations. "
   ]
  }
 ],
 "metadata": {
  "kernelspec": {
   "display_name": "Python 3",
   "language": "python",
   "name": "python3"
  },
  "language_info": {
   "codemirror_mode": {
    "name": "ipython",
    "version": 3
   },
   "file_extension": ".py",
   "mimetype": "text/x-python",
   "name": "python",
   "nbconvert_exporter": "python",
   "pygments_lexer": "ipython3",
   "version": "3.6.3"
  }
 },
 "nbformat": 4,
 "nbformat_minor": 2
}
